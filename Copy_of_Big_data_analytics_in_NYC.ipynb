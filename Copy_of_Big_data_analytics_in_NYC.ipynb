{
  "nbformat": 4,
  "nbformat_minor": 0,
  "metadata": {
    "colab": {
      "provenance": []
    },
    "kernelspec": {
      "name": "python3",
      "display_name": "Python 3"
    },
    "language_info": {
      "name": "python"
    }
  },
  "cells": [
    {
      "cell_type": "code",
      "execution_count": null,
      "metadata": {
        "colab": {
          "base_uri": "https://localhost:8080/"
        },
        "id": "5n3WFyO7YMg6",
        "outputId": "f1137500-937a-4e42-d189-58a90f7f1f6d"
      },
      "outputs": [
        {
          "output_type": "stream",
          "name": "stdout",
          "text": [
            "Requirement already satisfied: pyspark in /usr/local/lib/python3.10/dist-packages (3.5.0)\n",
            "Requirement already satisfied: py4j==0.10.9.7 in /usr/local/lib/python3.10/dist-packages (from pyspark) (0.10.9.7)\n",
            "root\n",
            " |-- id: string (nullable = true)\n",
            " |-- vendor_id: integer (nullable = true)\n",
            " |-- pickup_datetime: string (nullable = true)\n",
            " |-- dropoff_datetime: string (nullable = true)\n",
            " |-- passenger_count: string (nullable = true)\n",
            " |-- pickup_longitude: double (nullable = true)\n",
            " |-- pickup_latitude: double (nullable = true)\n",
            " |-- dropoff_longitude: double (nullable = true)\n",
            " |-- dropoff_latitude: string (nullable = true)\n",
            " |-- store_and_fwd_flag: string (nullable = true)\n",
            " |-- trip_duration: integer (nullable = true)\n",
            "\n"
          ]
        }
      ],
      "source": [
        "!pip install pyspark\n",
        "# Importing necessary libraries\n",
        "from pyspark.sql import SparkSession\n",
        "\n",
        "# Creating a SparkSession\n",
        "spark = SparkSession.builder.appName(\"BigDataAnalytics\").getOrCreate()\n",
        "\n",
        "# Reading the dataset\n",
        "data = spark.read.csv(\"/content/NYC.csv\", header=True, inferSchema=True)\n",
        "\n",
        "# Displaying the dataset schema\n",
        "data.printSchema()"
      ]
    },
    {
      "cell_type": "code",
      "source": [
        "# Counting the number of records in the dataset\n",
        "record_count = data.count()\n",
        "print(\"Number of records:\", record_count)"
      ],
      "metadata": {
        "id": "HIoqpvZzgIVw",
        "colab": {
          "base_uri": "https://localhost:8080/"
        },
        "outputId": "d8146b45-efaf-43b3-8cac-7a00ede8e466"
      },
      "execution_count": null,
      "outputs": [
        {
          "output_type": "stream",
          "name": "stdout",
          "text": [
            "Number of records: 60997\n"
          ]
        }
      ]
    },
    {
      "cell_type": "code",
      "source": [
        "# Summary statistics of the trip duration\n",
        "data.describe(\"trip_duration\").show()"
      ],
      "metadata": {
        "id": "Q5pIMBI2n_bL",
        "colab": {
          "base_uri": "https://localhost:8080/"
        },
        "outputId": "ae857ef1-1099-406c-8520-a0d4d6ae30f6"
      },
      "execution_count": null,
      "outputs": [
        {
          "output_type": "stream",
          "name": "stdout",
          "text": [
            "+-------+-----------------+\n",
            "|summary|    trip_duration|\n",
            "+-------+-----------------+\n",
            "|  count|            60995|\n",
            "|   mean|948.0460857447332|\n",
            "| stddev|3141.785290814647|\n",
            "|    min|                1|\n",
            "|    max|            86357|\n",
            "+-------+-----------------+\n",
            "\n"
          ]
        }
      ]
    },
    {
      "cell_type": "code",
      "source": [
        "# Dropping irrelevant columns\n",
        "data = data.drop(\"id\", \"vendor_id\",  \"dropoff_datetime\", \"store_and_fwd_flag\")"
      ],
      "metadata": {
        "id": "jXemVgt2n_lM"
      },
      "execution_count": null,
      "outputs": []
    },
    {
      "cell_type": "code",
      "source": [
        "# Handling missing values\n",
        "data = data.dropna()"
      ],
      "metadata": {
        "id": "WRKWVMrjoIN6"
      },
      "execution_count": null,
      "outputs": []
    },
    {
      "cell_type": "code",
      "source": [
        "# Checking for duplicates\n",
        "duplicate_count = data.count() - data.dropDuplicates().count()\n",
        "print(\"Number of duplicates:\", duplicate_count)"
      ],
      "metadata": {
        "id": "69gBxYIMoMKi",
        "colab": {
          "base_uri": "https://localhost:8080/"
        },
        "outputId": "30cc52e5-9792-4a21-f613-fa06c1af55ae"
      },
      "execution_count": null,
      "outputs": [
        {
          "output_type": "stream",
          "name": "stdout",
          "text": [
            "Number of duplicates: 0\n"
          ]
        }
      ]
    },
    {
      "cell_type": "code",
      "source": [
        "data.printSchema()"
      ],
      "metadata": {
        "id": "rc7E8ylNpBRa",
        "colab": {
          "base_uri": "https://localhost:8080/"
        },
        "outputId": "d7d6bf29-6148-4eeb-b21e-13a8318a9649"
      },
      "execution_count": null,
      "outputs": [
        {
          "output_type": "stream",
          "name": "stdout",
          "text": [
            "root\n",
            " |-- pickup_datetime: string (nullable = true)\n",
            " |-- passenger_count: string (nullable = true)\n",
            " |-- pickup_longitude: double (nullable = true)\n",
            " |-- pickup_latitude: double (nullable = true)\n",
            " |-- dropoff_longitude: double (nullable = true)\n",
            " |-- dropoff_latitude: string (nullable = true)\n",
            " |-- trip_duration: integer (nullable = true)\n",
            "\n"
          ]
        }
      ]
    },
    {
      "cell_type": "code",
      "source": [
        "# Importing necessary libraries\n",
        "from pyspark.sql.functions import col, hour, dayofweek"
      ],
      "metadata": {
        "id": "aryeQeb4puPn"
      },
      "execution_count": null,
      "outputs": []
    },
    {
      "cell_type": "code",
      "source": [
        "# Adding new features\n",
        "data = data.withColumn(\"pickup_hour\", hour(col(\"pickup_datetime\")))\n",
        "data = data.withColumn(\"pickup_dayofweek\", dayofweek(col(\"pickup_datetime\")))"
      ],
      "metadata": {
        "id": "hPO7__Vnpucd"
      },
      "execution_count": null,
      "outputs": []
    },
    {
      "cell_type": "code",
      "source": [
        "# Aggregating and summarizing data\n",
        "avg_duration_by_hour = data.groupBy(\"pickup_hour\").avg(\"trip_duration\").orderBy(\"pickup_hour\")\n",
        "avg_duration_by_day = data.groupBy(\"pickup_dayofweek\").avg(\"trip_duration\").orderBy(\"pickup_dayofweek\")"
      ],
      "metadata": {
        "id": "vzwoA69rpuoM"
      },
      "execution_count": null,
      "outputs": []
    },
    {
      "cell_type": "code",
      "source": [
        "# Displaying the results\n",
        "avg_duration_by_hour.show()\n",
        "avg_duration_by_day.show()"
      ],
      "metadata": {
        "colab": {
          "base_uri": "https://localhost:8080/"
        },
        "id": "sMgsxPRlpuyG",
        "outputId": "db8440e1-60a7-4c42-d67d-7f1618c3cf6e"
      },
      "execution_count": null,
      "outputs": [
        {
          "output_type": "stream",
          "name": "stdout",
          "text": [
            "+-----------+------------------+\n",
            "|pickup_hour|avg(trip_duration)|\n",
            "+-----------+------------------+\n",
            "|          0|  961.259410430839|\n",
            "|          1| 918.1218405703175|\n",
            "|          2| 700.9796819787986|\n",
            "|          3| 826.9276169265033|\n",
            "|          4|1210.3047091412743|\n",
            "|          5| 704.2127659574468|\n",
            "|          6| 705.6065109695683|\n",
            "|          7| 730.9138370118845|\n",
            "|          8| 998.6966877558616|\n",
            "|          9| 837.9705263157895|\n",
            "|         10| 964.1688825008983|\n",
            "|         11|1008.8194684156024|\n",
            "|         12| 945.6070959264126|\n",
            "|         13| 952.4958563535912|\n",
            "|         14| 1021.975884244373|\n",
            "|         15|1187.8109616015754|\n",
            "|         16| 1053.153038259565|\n",
            "|         17|1072.8379037172456|\n",
            "|         18| 1032.036014721346|\n",
            "|         19| 863.9386631716907|\n",
            "+-----------+------------------+\n",
            "only showing top 20 rows\n",
            "\n",
            "+----------------+------------------+\n",
            "|pickup_dayofweek|avg(trip_duration)|\n",
            "+----------------+------------------+\n",
            "|               1| 856.7180080360404|\n",
            "|               2| 870.5447583176397|\n",
            "|               3| 978.9692668621701|\n",
            "|               4| 969.3606594916419|\n",
            "|               5| 951.8462806285023|\n",
            "|               6|1003.0303682963602|\n",
            "|               7| 988.5704317488007|\n",
            "+----------------+------------------+\n",
            "\n"
          ]
        }
      ]
    },
    {
      "cell_type": "code",
      "source": [
        "# Importing necessary libraries\n",
        "import matplotlib.pyplot as plt"
      ],
      "metadata": {
        "id": "S3EcEULRtaNn"
      },
      "execution_count": null,
      "outputs": []
    },
    {
      "cell_type": "code",
      "source": [
        "# Converting DataFrame to Pandas DataFrame for visualization\n",
        "pandas_data = data.toPandas()"
      ],
      "metadata": {
        "id": "5nyLm86Etdhb"
      },
      "execution_count": null,
      "outputs": []
    },
    {
      "cell_type": "code",
      "source": [
        "pandas_data.head()"
      ],
      "metadata": {
        "colab": {
          "base_uri": "https://localhost:8080/",
          "height": 313
        },
        "id": "re2YbxGTuBwJ",
        "outputId": "c565e2d0-1123-4ec5-8a3d-273b3abf7a65"
      },
      "execution_count": null,
      "outputs": [
        {
          "output_type": "execute_result",
          "data": {
            "text/plain": [
              "       pickup_datetime passenger_count  pickup_longitude  pickup_latitude  \\\n",
              "0  2016-03-14 17:24:55               1        -73.982155        40.767937   \n",
              "1  2016-06-12 00:43:35               1        -73.980415        40.738564   \n",
              "2  2016-01-19 11:35:24               1        -73.979027        40.763939   \n",
              "3  2016-04-06 19:32:31               1        -74.010040        40.719971   \n",
              "4  2016-03-26 13:30:55               1        -73.973053        40.793209   \n",
              "\n",
              "   dropoff_longitude    dropoff_latitude  trip_duration  pickup_hour  \\\n",
              "0         -73.964630  40.765602111816406            455           17   \n",
              "1         -73.999481  40.731151580810547            663            0   \n",
              "2         -74.005333  40.710086822509766           2124           11   \n",
              "3         -74.012268  40.706718444824219            429           19   \n",
              "4         -73.972923  40.782520294189453            435           13   \n",
              "\n",
              "   pickup_dayofweek  \n",
              "0                 2  \n",
              "1                 1  \n",
              "2                 3  \n",
              "3                 4  \n",
              "4                 7  "
            ],
            "text/html": [
              "\n",
              "  <div id=\"df-07634706-7381-42a7-9f24-a125ddb43d5a\" class=\"colab-df-container\">\n",
              "    <div>\n",
              "<style scoped>\n",
              "    .dataframe tbody tr th:only-of-type {\n",
              "        vertical-align: middle;\n",
              "    }\n",
              "\n",
              "    .dataframe tbody tr th {\n",
              "        vertical-align: top;\n",
              "    }\n",
              "\n",
              "    .dataframe thead th {\n",
              "        text-align: right;\n",
              "    }\n",
              "</style>\n",
              "<table border=\"1\" class=\"dataframe\">\n",
              "  <thead>\n",
              "    <tr style=\"text-align: right;\">\n",
              "      <th></th>\n",
              "      <th>pickup_datetime</th>\n",
              "      <th>passenger_count</th>\n",
              "      <th>pickup_longitude</th>\n",
              "      <th>pickup_latitude</th>\n",
              "      <th>dropoff_longitude</th>\n",
              "      <th>dropoff_latitude</th>\n",
              "      <th>trip_duration</th>\n",
              "      <th>pickup_hour</th>\n",
              "      <th>pickup_dayofweek</th>\n",
              "    </tr>\n",
              "  </thead>\n",
              "  <tbody>\n",
              "    <tr>\n",
              "      <th>0</th>\n",
              "      <td>2016-03-14 17:24:55</td>\n",
              "      <td>1</td>\n",
              "      <td>-73.982155</td>\n",
              "      <td>40.767937</td>\n",
              "      <td>-73.964630</td>\n",
              "      <td>40.765602111816406</td>\n",
              "      <td>455</td>\n",
              "      <td>17</td>\n",
              "      <td>2</td>\n",
              "    </tr>\n",
              "    <tr>\n",
              "      <th>1</th>\n",
              "      <td>2016-06-12 00:43:35</td>\n",
              "      <td>1</td>\n",
              "      <td>-73.980415</td>\n",
              "      <td>40.738564</td>\n",
              "      <td>-73.999481</td>\n",
              "      <td>40.731151580810547</td>\n",
              "      <td>663</td>\n",
              "      <td>0</td>\n",
              "      <td>1</td>\n",
              "    </tr>\n",
              "    <tr>\n",
              "      <th>2</th>\n",
              "      <td>2016-01-19 11:35:24</td>\n",
              "      <td>1</td>\n",
              "      <td>-73.979027</td>\n",
              "      <td>40.763939</td>\n",
              "      <td>-74.005333</td>\n",
              "      <td>40.710086822509766</td>\n",
              "      <td>2124</td>\n",
              "      <td>11</td>\n",
              "      <td>3</td>\n",
              "    </tr>\n",
              "    <tr>\n",
              "      <th>3</th>\n",
              "      <td>2016-04-06 19:32:31</td>\n",
              "      <td>1</td>\n",
              "      <td>-74.010040</td>\n",
              "      <td>40.719971</td>\n",
              "      <td>-74.012268</td>\n",
              "      <td>40.706718444824219</td>\n",
              "      <td>429</td>\n",
              "      <td>19</td>\n",
              "      <td>4</td>\n",
              "    </tr>\n",
              "    <tr>\n",
              "      <th>4</th>\n",
              "      <td>2016-03-26 13:30:55</td>\n",
              "      <td>1</td>\n",
              "      <td>-73.973053</td>\n",
              "      <td>40.793209</td>\n",
              "      <td>-73.972923</td>\n",
              "      <td>40.782520294189453</td>\n",
              "      <td>435</td>\n",
              "      <td>13</td>\n",
              "      <td>7</td>\n",
              "    </tr>\n",
              "  </tbody>\n",
              "</table>\n",
              "</div>\n",
              "    <div class=\"colab-df-buttons\">\n",
              "\n",
              "  <div class=\"colab-df-container\">\n",
              "    <button class=\"colab-df-convert\" onclick=\"convertToInteractive('df-07634706-7381-42a7-9f24-a125ddb43d5a')\"\n",
              "            title=\"Convert this dataframe to an interactive table.\"\n",
              "            style=\"display:none;\">\n",
              "\n",
              "  <svg xmlns=\"http://www.w3.org/2000/svg\" height=\"24px\" viewBox=\"0 -960 960 960\">\n",
              "    <path d=\"M120-120v-720h720v720H120Zm60-500h600v-160H180v160Zm220 220h160v-160H400v160Zm0 220h160v-160H400v160ZM180-400h160v-160H180v160Zm440 0h160v-160H620v160ZM180-180h160v-160H180v160Zm440 0h160v-160H620v160Z\"/>\n",
              "  </svg>\n",
              "    </button>\n",
              "\n",
              "  <style>\n",
              "    .colab-df-container {\n",
              "      display:flex;\n",
              "      gap: 12px;\n",
              "    }\n",
              "\n",
              "    .colab-df-convert {\n",
              "      background-color: #E8F0FE;\n",
              "      border: none;\n",
              "      border-radius: 50%;\n",
              "      cursor: pointer;\n",
              "      display: none;\n",
              "      fill: #1967D2;\n",
              "      height: 32px;\n",
              "      padding: 0 0 0 0;\n",
              "      width: 32px;\n",
              "    }\n",
              "\n",
              "    .colab-df-convert:hover {\n",
              "      background-color: #E2EBFA;\n",
              "      box-shadow: 0px 1px 2px rgba(60, 64, 67, 0.3), 0px 1px 3px 1px rgba(60, 64, 67, 0.15);\n",
              "      fill: #174EA6;\n",
              "    }\n",
              "\n",
              "    .colab-df-buttons div {\n",
              "      margin-bottom: 4px;\n",
              "    }\n",
              "\n",
              "    [theme=dark] .colab-df-convert {\n",
              "      background-color: #3B4455;\n",
              "      fill: #D2E3FC;\n",
              "    }\n",
              "\n",
              "    [theme=dark] .colab-df-convert:hover {\n",
              "      background-color: #434B5C;\n",
              "      box-shadow: 0px 1px 3px 1px rgba(0, 0, 0, 0.15);\n",
              "      filter: drop-shadow(0px 1px 2px rgba(0, 0, 0, 0.3));\n",
              "      fill: #FFFFFF;\n",
              "    }\n",
              "  </style>\n",
              "\n",
              "    <script>\n",
              "      const buttonEl =\n",
              "        document.querySelector('#df-07634706-7381-42a7-9f24-a125ddb43d5a button.colab-df-convert');\n",
              "      buttonEl.style.display =\n",
              "        google.colab.kernel.accessAllowed ? 'block' : 'none';\n",
              "\n",
              "      async function convertToInteractive(key) {\n",
              "        const element = document.querySelector('#df-07634706-7381-42a7-9f24-a125ddb43d5a');\n",
              "        const dataTable =\n",
              "          await google.colab.kernel.invokeFunction('convertToInteractive',\n",
              "                                                    [key], {});\n",
              "        if (!dataTable) return;\n",
              "\n",
              "        const docLinkHtml = 'Like what you see? Visit the ' +\n",
              "          '<a target=\"_blank\" href=https://colab.research.google.com/notebooks/data_table.ipynb>data table notebook</a>'\n",
              "          + ' to learn more about interactive tables.';\n",
              "        element.innerHTML = '';\n",
              "        dataTable['output_type'] = 'display_data';\n",
              "        await google.colab.output.renderOutput(dataTable, element);\n",
              "        const docLink = document.createElement('div');\n",
              "        docLink.innerHTML = docLinkHtml;\n",
              "        element.appendChild(docLink);\n",
              "      }\n",
              "    </script>\n",
              "  </div>\n",
              "\n",
              "\n",
              "<div id=\"df-afe84ffb-22b9-40b7-bf20-62def6ef2f1f\">\n",
              "  <button class=\"colab-df-quickchart\" onclick=\"quickchart('df-afe84ffb-22b9-40b7-bf20-62def6ef2f1f')\"\n",
              "            title=\"Suggest charts\"\n",
              "            style=\"display:none;\">\n",
              "\n",
              "<svg xmlns=\"http://www.w3.org/2000/svg\" height=\"24px\"viewBox=\"0 0 24 24\"\n",
              "     width=\"24px\">\n",
              "    <g>\n",
              "        <path d=\"M19 3H5c-1.1 0-2 .9-2 2v14c0 1.1.9 2 2 2h14c1.1 0 2-.9 2-2V5c0-1.1-.9-2-2-2zM9 17H7v-7h2v7zm4 0h-2V7h2v10zm4 0h-2v-4h2v4z\"/>\n",
              "    </g>\n",
              "</svg>\n",
              "  </button>\n",
              "\n",
              "<style>\n",
              "  .colab-df-quickchart {\n",
              "      --bg-color: #E8F0FE;\n",
              "      --fill-color: #1967D2;\n",
              "      --hover-bg-color: #E2EBFA;\n",
              "      --hover-fill-color: #174EA6;\n",
              "      --disabled-fill-color: #AAA;\n",
              "      --disabled-bg-color: #DDD;\n",
              "  }\n",
              "\n",
              "  [theme=dark] .colab-df-quickchart {\n",
              "      --bg-color: #3B4455;\n",
              "      --fill-color: #D2E3FC;\n",
              "      --hover-bg-color: #434B5C;\n",
              "      --hover-fill-color: #FFFFFF;\n",
              "      --disabled-bg-color: #3B4455;\n",
              "      --disabled-fill-color: #666;\n",
              "  }\n",
              "\n",
              "  .colab-df-quickchart {\n",
              "    background-color: var(--bg-color);\n",
              "    border: none;\n",
              "    border-radius: 50%;\n",
              "    cursor: pointer;\n",
              "    display: none;\n",
              "    fill: var(--fill-color);\n",
              "    height: 32px;\n",
              "    padding: 0;\n",
              "    width: 32px;\n",
              "  }\n",
              "\n",
              "  .colab-df-quickchart:hover {\n",
              "    background-color: var(--hover-bg-color);\n",
              "    box-shadow: 0 1px 2px rgba(60, 64, 67, 0.3), 0 1px 3px 1px rgba(60, 64, 67, 0.15);\n",
              "    fill: var(--button-hover-fill-color);\n",
              "  }\n",
              "\n",
              "  .colab-df-quickchart-complete:disabled,\n",
              "  .colab-df-quickchart-complete:disabled:hover {\n",
              "    background-color: var(--disabled-bg-color);\n",
              "    fill: var(--disabled-fill-color);\n",
              "    box-shadow: none;\n",
              "  }\n",
              "\n",
              "  .colab-df-spinner {\n",
              "    border: 2px solid var(--fill-color);\n",
              "    border-color: transparent;\n",
              "    border-bottom-color: var(--fill-color);\n",
              "    animation:\n",
              "      spin 1s steps(1) infinite;\n",
              "  }\n",
              "\n",
              "  @keyframes spin {\n",
              "    0% {\n",
              "      border-color: transparent;\n",
              "      border-bottom-color: var(--fill-color);\n",
              "      border-left-color: var(--fill-color);\n",
              "    }\n",
              "    20% {\n",
              "      border-color: transparent;\n",
              "      border-left-color: var(--fill-color);\n",
              "      border-top-color: var(--fill-color);\n",
              "    }\n",
              "    30% {\n",
              "      border-color: transparent;\n",
              "      border-left-color: var(--fill-color);\n",
              "      border-top-color: var(--fill-color);\n",
              "      border-right-color: var(--fill-color);\n",
              "    }\n",
              "    40% {\n",
              "      border-color: transparent;\n",
              "      border-right-color: var(--fill-color);\n",
              "      border-top-color: var(--fill-color);\n",
              "    }\n",
              "    60% {\n",
              "      border-color: transparent;\n",
              "      border-right-color: var(--fill-color);\n",
              "    }\n",
              "    80% {\n",
              "      border-color: transparent;\n",
              "      border-right-color: var(--fill-color);\n",
              "      border-bottom-color: var(--fill-color);\n",
              "    }\n",
              "    90% {\n",
              "      border-color: transparent;\n",
              "      border-bottom-color: var(--fill-color);\n",
              "    }\n",
              "  }\n",
              "</style>\n",
              "\n",
              "  <script>\n",
              "    async function quickchart(key) {\n",
              "      const quickchartButtonEl =\n",
              "        document.querySelector('#' + key + ' button');\n",
              "      quickchartButtonEl.disabled = true;  // To prevent multiple clicks.\n",
              "      quickchartButtonEl.classList.add('colab-df-spinner');\n",
              "      try {\n",
              "        const charts = await google.colab.kernel.invokeFunction(\n",
              "            'suggestCharts', [key], {});\n",
              "      } catch (error) {\n",
              "        console.error('Error during call to suggestCharts:', error);\n",
              "      }\n",
              "      quickchartButtonEl.classList.remove('colab-df-spinner');\n",
              "      quickchartButtonEl.classList.add('colab-df-quickchart-complete');\n",
              "    }\n",
              "    (() => {\n",
              "      let quickchartButtonEl =\n",
              "        document.querySelector('#df-afe84ffb-22b9-40b7-bf20-62def6ef2f1f button');\n",
              "      quickchartButtonEl.style.display =\n",
              "        google.colab.kernel.accessAllowed ? 'block' : 'none';\n",
              "    })();\n",
              "  </script>\n",
              "</div>\n",
              "\n",
              "    </div>\n",
              "  </div>\n"
            ],
            "application/vnd.google.colaboratory.intrinsic+json": {
              "type": "dataframe",
              "variable_name": "pandas_data",
              "repr_error": "'str' object has no attribute 'empty'"
            }
          },
          "metadata": {},
          "execution_count": 20
        }
      ]
    },
    {
      "cell_type": "code",
      "source": [
        "# Plotting trip duration distribution\n",
        "plt.hist(pandas_data[\"trip_duration\"], bins=30, edgecolor=\"black\")\n",
        "plt.xlabel(\"Trip Duration (seconds)\")\n",
        "plt.ylabel(\"Frequency\")\n",
        "plt.title(\"Distribution of Trip Durations\")\n",
        "plt.show()"
      ],
      "metadata": {
        "colab": {
          "base_uri": "https://localhost:8080/",
          "height": 472
        },
        "id": "qYMiZ-Bith3R",
        "outputId": "9473a552-3414-47a3-a18e-afb2cc1d402c"
      },
      "execution_count": null,
      "outputs": [
        {
          "output_type": "display_data",
          "data": {
            "text/plain": [
              "<Figure size 640x480 with 1 Axes>"
            ],
            "image/png": "[encoded data removed]"
          },
          "metadata": {}
        }
      ]
    },
    {
      "cell_type": "code",
      "source": [
        "# Plotting average trip duration by hour\n",
        "plt.plot(avg_duration_by_hour.toPandas()[\"pickup_hour\"], avg_duration_by_hour.toPandas()[\"avg(trip_duration)\"])\n",
        "plt.xlabel(\"Pickup Hour\")\n",
        "plt.ylabel(\"Average Trip Duration (seconds)\")\n",
        "plt.title(\"Average Trip Duration by Hour\")\n",
        "plt.show()"
      ],
      "metadata": {
        "colab": {
          "base_uri": "https://localhost:8080/",
          "height": 472
        },
        "id": "OTQ5OGsdtsY5",
        "outputId": "71e28e44-693a-4c2c-a362-bb64d7c6e8cd"
      },
      "execution_count": null,
      "outputs": [
        {
          "output_type": "display_data",
          "data": {
            "text/plain": [
              "<Figure size 640x480 with 1 Axes>"
            ],
            "image/png": "[encoded data removed]"
          },
          "metadata": {}
        }
      ]
    }
  ]
}